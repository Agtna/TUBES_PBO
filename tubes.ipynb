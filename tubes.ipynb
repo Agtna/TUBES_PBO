{
 "cells": [
  {
   "cell_type": "markdown",
   "metadata": {},
   "source": [
    "konfigurasi.py"
   ]
  },
  {
   "cell_type": "markdown",
   "metadata": {},
   "source": [
    "import os\n",
    "\n",
    "BASE_DIR = os.path.dirname(os.path.abspath(__file__))\n",
    "NAMA_DB = 'laporan_infrastruktur.db'\n",
    "DB_PATH = os.path.join(BASE_DIR, NAMA_DB)\n",
    "\n",
    "TIPE_LAPORAN = [\"Jalan Rusak\", \"Lampu Mati\", \"Saluran Air\", \"Trotoar Rusak\", \"Lainnya\"]\n"
   ]
  },
  {
   "cell_type": "markdown",
   "metadata": {},
   "source": [
    "setup_db.py"
   ]
  },
  {
   "cell_type": "markdown",
   "metadata": {},
   "source": [
    "import sqlite3\n",
    "from konfigurasi import DB_PATH\n",
    "\n",
    "def setup_database():\n",
    "    conn = sqlite3.connect(DB_PATH)\n",
    "    cursor = conn.cursor()\n",
    "    cursor.execute(\"\"\"\n",
    "        CREATE TABLE IF NOT EXISTS laporan (\n",
    "            id INTEGER PRIMARY KEY AUTOINCREMENT,\n",
    "            nama TEXT NOT NULL,\n",
    "            deskripsi TEXT,\n",
    "            tipe TEXT,\n",
    "            latitude REAL,\n",
    "            longitude REAL,\n",
    "            tanggal DATE NOT NULL\n",
    "        );\n",
    "    \"\"\")\n",
    "    conn.commit()\n",
    "    conn.close()\n",
    "\n",
    "if __name__ == \"__main__\":\n",
    "    setup_database()\n"
   ]
  },
  {
   "cell_type": "markdown",
   "metadata": {},
   "source": [
    "database.py"
   ]
  },
  {
   "cell_type": "code",
   "execution_count": null,
   "metadata": {
    "vscode": {
     "languageId": "plaintext"
    }
   },
   "outputs": [],
   "source": [
    "import sqlite3\n",
    "import pandas as pd\n",
    "from konfigurasi import DB_PATH\n",
    "\n",
    "def get_connection():\n",
    "    return sqlite3.connect(DB_PATH)\n",
    "\n",
    "def insert_laporan(data: dict):\n",
    "    with get_connection() as conn:\n",
    "        cursor = conn.cursor()\n",
    "        cursor.execute(\"\"\"\n",
    "            INSERT INTO laporan (nama, deskripsi, tipe, latitude, longitude, tanggal)\n",
    "            VALUES (?, ?, ?, ?, ?, ?)\n",
    "        \"\"\", (\n",
    "            data['nama'], data['deskripsi'], data['tipe'],\n",
    "            data['latitude'], data['longitude'], data['tanggal']\n",
    "        ))\n",
    "        conn.commit()\n",
    "\n",
    "def get_all_laporan():\n",
    "    with get_connection() as conn:\n",
    "        return pd.read_sql_query(\"SELECT * FROM laporan ORDER BY tanggal DESC\", conn)\n",
    "def delete_laporan_by_id(id_laporan: int) -> bool:\n",
    "    try:\n",
    "        with get_connection() as conn:\n",
    "            cursor = conn.cursor()\n",
    "            cursor.execute(\"DELETE FROM laporan WHERE id = ?\", (id_laporan,))\n",
    "            conn.commit()\n",
    "        return True\n",
    "    except:\n",
    "        return False\n"
   ]
  },
  {
   "cell_type": "code",
   "execution_count": null,
   "metadata": {
    "vscode": {
     "languageId": "plaintext"
    }
   },
   "outputs": [],
   "source": [
    "model.py"
   ]
  },
  {
   "cell_type": "code",
   "execution_count": null,
   "metadata": {
    "vscode": {
     "languageId": "plaintext"
    }
   },
   "outputs": [],
   "source": [
    "import datetime\n",
    "\n",
    "class Laporan:\n",
    "    def __init__(self, nama, deskripsi, tipe, latitude, longitude, tanggal, id_laporan=None):\n",
    "        self.id = id_laporan\n",
    "        self.nama = nama or \"Tanpa Nama\"\n",
    "        self.deskripsi = deskripsi or \"-\"\n",
    "        self.tipe = tipe or \"Lainnya\"\n",
    "        self.latitude = float(latitude)\n",
    "        self.longitude = float(longitude)\n",
    "        self.tanggal = tanggal if isinstance(tanggal, datetime.date) else datetime.date.today()\n",
    "\n",
    "    def to_dict(self):\n",
    "        return {\n",
    "            \"nama\": self.nama,\n",
    "            \"deskripsi\": self.deskripsi,\n",
    "            \"tipe\": self.tipe,\n",
    "            \"latitude\": self.latitude,\n",
    "            \"longitude\": self.longitude,\n",
    "            \"tanggal\": self.tanggal.strftime(\"%Y-%m-%d\")\n",
    "        }\n"
   ]
  },
  {
   "cell_type": "markdown",
   "metadata": {},
   "source": [
    "manajer_laporan.py"
   ]
  },
  {
   "cell_type": "code",
   "execution_count": null,
   "metadata": {
    "vscode": {
     "languageId": "plaintext"
    }
   },
   "outputs": [],
   "source": [
    "from model import Laporan\n",
    "import database\n",
    "\n",
    "class ManajerLaporan:\n",
    "    def tambah_laporan(self, laporan: Laporan):\n",
    "        database.insert_laporan(laporan.to_dict())\n",
    "\n",
    "    def semua_laporan_df(self):\n",
    "        return database.get_all_laporan()\n",
    "\n",
    "    def hapus_laporan(self, id_laporan: int) -> bool:\n",
    "        return database.delete_laporan_by_id(id_laporan)\n"
   ]
  },
  {
   "cell_type": "markdown",
   "metadata": {},
   "source": [
    "main_app.py"
   ]
  },
  {
   "cell_type": "code",
   "execution_count": null,
   "metadata": {
    "vscode": {
     "languageId": "plaintext"
    }
   },
   "outputs": [],
   "source": [
    "import streamlit as st\n",
    "from datetime import date\n",
    "from manajer_laporan import ManajerLaporan\n",
    "from model import Laporan\n",
    "from konfigurasi import TIPE_LAPORAN\n",
    "import folium\n",
    "from streamlit_folium import st_folium\n",
    "import pandas as pd\n",
    "\n",
    "st.set_page_config(page_title=\"Pelaporan Jalan Rusak & Infrastruktur Kota Semarang\", layout=\"wide\")\n",
    "\n",
    "# Handle session-based rerun\n",
    "if st.session_state.get(\"rerun_trigger\"):\n",
    "    st.session_state[\"rerun_trigger\"] = False\n",
    "    st.experimental_rerun()\n",
    "\n",
    "# Header \n",
    "col_logo, col_title = st.columns([1, 5])\n",
    "with col_logo:\n",
    "    st.image(\"assets/logo.png\", width=80)\n",
    "\n",
    "with col_title:\n",
    "    st.markdown(\"\"\"\n",
    "    # Sistem Pelaporan Jalan Rusak & Infrastruktur Kota Semarang\n",
    "    \"\"\")\n",
    "\n",
    "manajer = ManajerLaporan()\n",
    "df = manajer.semua_laporan_df()\n",
    "if not df.empty and 'tanggal' in df.columns:\n",
    "    df['tanggal'] = pd.to_datetime(df['tanggal'])\n",
    "\n",
    "# Menu utama\n",
    "menu = st.sidebar.radio(\"📂 Menu\", [\"➕ Tambah\", \"📂 Riwayat\", \"📈 Ringkasan\", \"🗺️ Peta\"])\n",
    "\n",
    "# MENU: TAMBAH\n",
    "if menu == \"➕ Tambah\":\n",
    "    st.header(\"📝 Tambah Laporan Jalan Rusak & Infrastruktur Kota Semarang\")\n",
    "\n",
    "    with st.form(\"form_laporan\"):\n",
    "        nama = st.text_input(\"Nama Lokasi\")\n",
    "        deskripsi = st.text_area(\"Deskripsi Kerusakan\")\n",
    "        tipe = st.selectbox(\"Jenis Infrastruktur\", TIPE_LAPORAN)\n",
    "        lat = st.number_input(\"Latitude\", format=\"%.6f\")\n",
    "        lon = st.number_input(\"Longitude\", format=\"%.6f\")\n",
    "        tanggal = st.date_input(\"Tanggal\", value=date.today())\n",
    "        submitted = st.form_submit_button(\"Simpan\")\n",
    "\n",
    "        if submitted:\n",
    "            laporan = Laporan(nama, deskripsi, tipe, lat, lon, tanggal)\n",
    "            manajer.tambah_laporan(laporan)\n",
    "            st.session_state[\"rerun_trigger\"] = True\n",
    "            st.success(\"✅ Laporan berhasil disimpan.\")\n",
    "\n",
    "# MENU: RIWAYAT\n",
    "elif menu == \"📂 Riwayat\":\n",
    "    st.header(\"📄 Riwayat Laporan Masuk\")\n",
    "    if df.empty:\n",
    "        st.info(\"Belum ada laporan yang masuk.\")\n",
    "    else:\n",
    "        df_display = df[['id', 'nama', 'deskripsi', 'tipe', 'latitude', 'longitude', 'tanggal']].copy()\n",
    "        df_display['tanggal'] = df_display['tanggal'].dt.date\n",
    "        df_display = df_display.reset_index(drop=True)\n",
    "        st.dataframe(df_display, use_container_width=True)\n",
    "\n",
    "        st.subheader(\"🗑️ Hapus Laporan\")\n",
    "        daftar_id = df['id'].tolist()\n",
    "        id_dihapus = st.selectbox(\"Pilih ID laporan yang akan dihapus:\", daftar_id)\n",
    "        if st.button(\"Hapus Data\"):\n",
    "            if manajer.hapus_laporan(id_dihapus):\n",
    "                st.session_state[\"rerun_trigger\"] = True\n",
    "                st.success(f\"Laporan dengan ID {id_dihapus} berhasil dihapus.\")\n",
    "            else:\n",
    "                st.error(\"Gagal menghapus laporan. Coba lagi.\")\n",
    "\n",
    "# MENU: RINGKASAN\n",
    "elif menu == \"📈 Ringkasan\":\n",
    "    st.header(\"📈 Ringkasan Laporan Infrastruktur\")\n",
    "\n",
    "    if df.empty:\n",
    "        st.info(\"Belum ada data laporan yang tersedia.\")\n",
    "    else:\n",
    "        today = pd.to_datetime(date.today())\n",
    "\n",
    "        col_filter, col_metric = st.columns([2, 1])\n",
    "        with col_filter:\n",
    "            st.subheader(\"📆 Filter Periode Waktu\")\n",
    "            periode_opsi = [\"Semua Waktu\", \"Hari Ini\", \"Pilih Tanggal\"]\n",
    "            pilihan_periode = st.selectbox(\"Pilih Periode:\", periode_opsi, index=0, key=\"periode\", label_visibility=\"visible\")\n",
    "\n",
    "        if pilihan_periode == \"Hari Ini\":\n",
    "            df_filtered = df[df['tanggal'].dt.date == today.date()]\n",
    "        elif pilihan_periode == \"Pilih Tanggal\":\n",
    "            tanggal_pilihan = st.date_input(\"Pilih Tanggal:\", value=df['tanggal'].min().date())\n",
    "            df_filtered = df[df['tanggal'].dt.date == tanggal_pilihan]\n",
    "        else:\n",
    "            df_filtered = df\n",
    "\n",
    "        with col_metric:\n",
    "            st.subheader(\"📊 Total Laporan\")\n",
    "            st.metric(\"\", f\"{len(df_filtered)} laporan\")\n",
    "\n",
    "        st.markdown(\"---\")\n",
    "        st.subheader(f\"📊 Laporan per Kategori ({pilihan_periode})\")\n",
    "\n",
    "        if df_filtered.empty:\n",
    "            st.info(\"Tidak ada data untuk periode ini.\")\n",
    "        else:\n",
    "            col3, col4 = st.columns([1, 2])\n",
    "\n",
    "            with col3:\n",
    "                st.dataframe(\n",
    "                    df_filtered[['tipe']]\n",
    "                    .value_counts()\n",
    "                    .reset_index()\n",
    "                    .rename(columns={0: 'Jumlah', 'tipe': 'Tipe'}),\n",
    "                    use_container_width=True\n",
    "                )\n",
    "\n",
    "            with col4:\n",
    "                st.bar_chart(df_filtered['tipe'].value_counts())\n",
    "\n",
    "# MENU: PETA\n",
    "elif menu == \"🗺️ Peta\":\n",
    "    st.header(\"🗺️ Peta Laporan Jalan Rusak & Infrastruktur Kota Semarang\")\n",
    "\n",
    "    if df.empty:\n",
    "        st.info(\"Belum ada data untuk ditampilkan.\")\n",
    "    else:\n",
    "        peta = folium.Map(location=[-6.9900, 110.4200], zoom_start=12)\n",
    "        for _, row in df.iterrows():\n",
    "            folium.Marker(\n",
    "                location=[row['latitude'], row['longitude']],\n",
    "                popup=f\"<b>{row['nama']}</b><br>{row['tipe']}<br>{row['deskripsi']}\",\n",
    "                tooltip=row['tipe']\n",
    "            ).add_to(peta)\n",
    "\n",
    "        st_folium(peta, width=700, height=500)"
   ]
  }
 ],
 "metadata": {
  "language_info": {
   "name": "python"
  }
 },
 "nbformat": 4,
 "nbformat_minor": 2
}
